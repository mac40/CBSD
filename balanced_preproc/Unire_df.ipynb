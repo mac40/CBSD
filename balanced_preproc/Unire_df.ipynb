{
 "cells": [
  {
   "cell_type": "code",
   "execution_count": 1,
   "metadata": {
    "collapsed": true
   },
   "outputs": [],
   "source": [
    "import pandas as pd\n",
    "import numpy as np\n"
   ]
  },
  {
   "cell_type": "code",
   "execution_count": 5,
   "metadata": {},
   "outputs": [
    {
     "data": {
      "text/plain": [
       "2400"
      ]
     },
     "execution_count": 5,
     "metadata": {},
     "output_type": "execute_result"
    }
   ],
   "source": [
    "video_1=pd.read_csv(\"balanced_preproc_26122013_223310_cam.csv\", sep=\",\", index_col=\"frame\")\n",
    "video_2=pd.read_csv(\"balanced_preproc_26122013_224532_cam.csv\", sep=\",\", index_col=\"frame\")\n",
    "video_3=pd.read_csv(\"balanced_preproc_26122013_230103_cam.csv\", sep=\",\", index_col=\"frame\")\n",
    "video_4=pd.read_csv(\"balanced_preproc_26122013_230654_cam.csv\", sep=\",\", index_col=\"frame\")\n",
    "video_5=pd.read_csv(\"balanced_preproc_27122013_151644_cam.csv\", sep=\",\", index_col=\"frame\")\n",
    "video_6=pd.read_csv(\"balanced_preproc_27122013_152435_cam.csv\", sep=\",\", index_col=\"frame\")\n",
    "video_7=pd.read_csv(\"balanced_preproc_27122013_153916_cam.csv\", sep=\",\", index_col=\"frame\")\n",
    "video_8=pd.read_csv(\"balanced_preproc_27122013_154548_cam.csv\", sep=\",\", index_col=\"frame\")\n",
    "\n",
    "dati_fin=pd.concat([video_1,video_2,video_3,video_4,video_5,video_6,video_7,video_8])\n",
    "dati_fin[dati_fin.blink==1].shape[0]"
   ]
  },
  {
   "cell_type": "code",
   "execution_count": 6,
   "metadata": {
    "collapsed": true
   },
   "outputs": [],
   "source": [
    "dati_fin.to_csv(\"balanced_preproc_all.csv\", index=True, header=True)"
   ]
  }
 ],
 "metadata": {
  "kernelspec": {
   "display_name": "Python 3",
   "language": "python",
   "name": "python3"
  },
  "language_info": {
   "codemirror_mode": {
    "name": "ipython",
    "version": 3
   },
   "file_extension": ".py",
   "mimetype": "text/x-python",
   "name": "python",
   "nbconvert_exporter": "python",
   "pygments_lexer": "ipython3",
   "version": "3.6.3"
  }
 },
 "nbformat": 4,
 "nbformat_minor": 2
}
